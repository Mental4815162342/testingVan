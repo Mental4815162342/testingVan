{
  "nbformat": 4,
  "nbformat_minor": 0,
  "metadata": {
    "colab": {
      "name": "Вэн.ipynb",
      "provenance": [],
      "authorship_tag": "ABX9TyPrszDEMjDB5Rxod1vXvZX7",
      "include_colab_link": true
    },
    "kernelspec": {
      "name": "python3",
      "display_name": "Python 3"
    },
    "language_info": {
      "name": "python"
    }
  },
  "cells": [
    {
      "cell_type": "markdown",
      "metadata": {
        "id": "view-in-github",
        "colab_type": "text"
      },
      "source": [
        "<a href=\"https://colab.research.google.com/github/Mental4815162342/testingVan/blob/main/%D0%92%D1%8D%D0%BD.ipynb\" target=\"_parent\"><img src=\"https://colab.research.google.com/assets/colab-badge.svg\" alt=\"Open In Colab\"/></a>"
      ]
    },
    {
      "cell_type": "code",
      "execution_count": 1,
      "metadata": {
        "colab": {
          "base_uri": "https://localhost:8080/"
        },
        "id": "98Gh4Hg4l_M2",
        "outputId": "f39b2cd9-3038-4017-875a-2e07331ba648"
      },
      "outputs": [
        {
          "output_type": "stream",
          "name": "stdout",
          "text": [
            "Первая дата (гггг-мм-дд): 2004-12-12\n",
            "Вторая дата (гггг-мм-дд): 2007-12-12\n",
            "1095\n"
          ]
        }
      ],
      "source": [
        "import datetime\n",
        " \n",
        "a = input('Первая дата (гггг-мм-дд): ')\n",
        "b = input('Вторая дата (гггг-мм-дд): ')\n",
        "a = a.split('-')\n",
        "b = b.split('-')\n",
        "\n",
        "def calc(a, b):\n",
        "  aa = datetime.date(int(a[0]),int(a[1]),int(a[2]))\n",
        "  bb = datetime.date(int(b[0]),int(b[1]),int(b[2]))\n",
        "  cc = bb-aa\n",
        "  dd = str(cc)\n",
        "  return dd\n",
        "print(calc(a, b).split()[0])"
      ]
    }
  ]
}