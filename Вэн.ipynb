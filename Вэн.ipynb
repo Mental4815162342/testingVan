{
  "nbformat": 4,
  "nbformat_minor": 0,
  "metadata": {
    "colab": {
      "name": "Вэн.ipynb",
      "provenance": [],
      "authorship_tag": "ABX9TyMRgDQiihKzHCNv8v6+mI++",
      "include_colab_link": true
    },
    "kernelspec": {
      "name": "python3",
      "display_name": "Python 3"
    },
    "language_info": {
      "name": "python"
    }
  },
  "cells": [
    {
      "cell_type": "markdown",
      "metadata": {
        "id": "view-in-github",
        "colab_type": "text"
      },
      "source": [
        "<a href=\"https://colab.research.google.com/github/Mental4815162342/testingVan/blob/main/%D0%92%D1%8D%D0%BD.ipynb\" target=\"_parent\"><img src=\"https://colab.research.google.com/assets/colab-badge.svg\" alt=\"Open In Colab\"/></a>"
      ]
    },
    {
      "cell_type": "code",
      "execution_count": 2,
      "metadata": {
        "colab": {
          "base_uri": "https://localhost:8080/"
        },
        "id": "98Gh4Hg4l_M2",
        "outputId": "4e2c6521-1357-475c-bfc8-03bc825df36f"
      },
      "outputs": [
        {
          "output_type": "stream",
          "name": "stdout",
          "text": [
            "Первая дата (гггг-мм-дд): 2004-02-29\n",
            "Вторая дата (гггг-мм-дд): 2015-01-02\n",
            "3960 days, 0:00:00\n",
            "3960\n"
          ]
        }
      ],
      "source": [
        "import datetime\n",
        " \n",
        "a = input('Первая дата (гггг-мм-дд): ')\n",
        "b = input('Вторая дата (гггг-мм-дд): ')\n",
        "a = a.split('-')\n",
        "b = b.split('-')\n",
        "aa = datetime.date(int(a[0]),int(a[1]),int(a[2]))\n",
        "bb = datetime.date(int(b[0]),int(b[1]),int(b[2]))\n",
        "cc = bb-aa\n",
        "print(cc) # output days and time\n",
        "dd = str(cc)\n",
        "print(dd.split()[0]) # only days"
      ]
    }
  ]
}